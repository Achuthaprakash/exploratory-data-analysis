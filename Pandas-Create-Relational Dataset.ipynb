{
 "cells": [
  {
   "cell_type": "markdown",
   "metadata": {},
   "source": [
    "# In this tutorial, you will learn how:\n",
    "##  1. Create a parent tabel.\n",
    "##  2. Create a child tabel.\n",
    "##  3. Create the relationshio parent-child\n",
    "##  4.  Use Pandas - DataFrame &DateTime, with Numpy"
   ]
  },
  {
   "cell_type": "code",
   "execution_count": 2,
   "metadata": {},
   "outputs": [],
   "source": [
    "# import the libraries\n",
    "import numpy as np\n",
    "import pandas as pd\n",
    "\n",
    "from pandas import Series, DataFrame\n",
    "\n",
    "# ignore warnings from pandas\n",
    "import warnings\n",
    "warnings.filterwarnings('ignore')"
   ]
  },
  {
   "cell_type": "code",
   "execution_count": 3,
   "metadata": {},
   "outputs": [],
   "source": [
    "# Create Dataset \n",
    "# Create Time Range\n",
    "from datetime import datetime\n",
    "import random\n",
    "\n",
    "rand_dates = []\n",
    " \n",
    "for _ in range(10000):\n",
    "    \n",
    "    year = random.choice(range(2000, 2020))\n",
    "    month = random.choice(range(1, 13))\n",
    "    day = random.choice(range(1, 29))\n",
    "    rdate = datetime(year, month, day)\n",
    "    rand_dates.append(rdate)\n",
    "\n",
    "rand_dates = sorted(rand_dates)\n",
    "\n",
    "\n",
    "# US States\n",
    "states = [\"AL\", \"AK\", \"AZ\", \"AR\", \"CA\", \"CO\", \"CT\", \"DC\", \"DE\", \"FL\", \"GA\", \n",
    "          \"HI\", \"ID\", \"IL\", \"IN\", \"IA\", \"KS\", \"KY\", \"LA\", \"ME\", \"MD\", \n",
    "          \"MA\", \"MI\", \"MN\", \"MS\", \"MO\", \"MT\", \"NE\", \"NV\", \"NH\", \"NJ\", \n",
    "          \"NM\", \"NY\", \"NC\", \"ND\", \"OH\", \"OK\", \"OR\", \"PA\", \"RI\", \"SC\", \n",
    "          \"SD\", \"TN\", \"TX\", \"UT\", \"VT\", \"VA\", \"WA\", \"WV\", \"WI\", \"WY\"]"
   ]
  },
  {
   "cell_type": "code",
   "execution_count": 6,
   "metadata": {},
   "outputs": [
    {
     "name": "stdout",
     "output_type": "stream",
     "text": [
      "10000\n"
     ]
    }
   ],
   "source": [
    "print(len(rand_dates))"
   ]
  },
  {
   "cell_type": "markdown",
   "metadata": {},
   "source": [
    "## Create a Parent Table  - Customers "
   ]
  },
  {
   "cell_type": "code",
   "execution_count": 13,
   "metadata": {},
   "outputs": [
    {
     "data": {
      "text/html": [
       "<div>\n",
       "<style scoped>\n",
       "    .dataframe tbody tr th:only-of-type {\n",
       "        vertical-align: middle;\n",
       "    }\n",
       "\n",
       "    .dataframe tbody tr th {\n",
       "        vertical-align: top;\n",
       "    }\n",
       "\n",
       "    .dataframe thead th {\n",
       "        text-align: right;\n",
       "    }\n",
       "</style>\n",
       "<table border=\"1\" class=\"dataframe\">\n",
       "  <thead>\n",
       "    <tr style=\"text-align: right;\">\n",
       "      <th></th>\n",
       "      <th>id</th>\n",
       "      <th>joined</th>\n",
       "      <th>income</th>\n",
       "      <th>credit_score</th>\n",
       "      <th>state</th>\n",
       "    </tr>\n",
       "  </thead>\n",
       "  <tbody>\n",
       "    <tr>\n",
       "      <th>0</th>\n",
       "      <td>5138</td>\n",
       "      <td>2015-04-04</td>\n",
       "      <td>42128</td>\n",
       "      <td>648</td>\n",
       "      <td>IL</td>\n",
       "    </tr>\n",
       "    <tr>\n",
       "      <th>1</th>\n",
       "      <td>361</td>\n",
       "      <td>2007-12-12</td>\n",
       "      <td>219185</td>\n",
       "      <td>704</td>\n",
       "      <td>MA</td>\n",
       "    </tr>\n",
       "    <tr>\n",
       "      <th>2</th>\n",
       "      <td>5978</td>\n",
       "      <td>2019-12-17</td>\n",
       "      <td>208830</td>\n",
       "      <td>516</td>\n",
       "      <td>IN</td>\n",
       "    </tr>\n",
       "    <tr>\n",
       "      <th>3</th>\n",
       "      <td>4077</td>\n",
       "      <td>2014-03-26</td>\n",
       "      <td>108327</td>\n",
       "      <td>844</td>\n",
       "      <td>MT</td>\n",
       "    </tr>\n",
       "    <tr>\n",
       "      <th>4</th>\n",
       "      <td>7658</td>\n",
       "      <td>2003-11-13</td>\n",
       "      <td>228568</td>\n",
       "      <td>695</td>\n",
       "      <td>NJ</td>\n",
       "    </tr>\n",
       "  </tbody>\n",
       "</table>\n",
       "</div>"
      ],
      "text/plain": [
       "     id     joined  income credit_score state\n",
       "0  5138 2015-04-04   42128          648    IL\n",
       "1   361 2007-12-12  219185          704    MA\n",
       "2  5978 2019-12-17  208830          516    IN\n",
       "3  4077 2014-03-26  108327          844    MT\n",
       "4  7658 2003-11-13  228568          695    NJ"
      ]
     },
     "execution_count": 13,
     "metadata": {},
     "output_type": "execute_result"
    }
   ],
   "source": [
    "# Create Customer Table\n",
    "customers = pd.DataFrame(columns = ['id', 'joined', 'income', 'credit_score', 'state'])\n",
    "\n",
    "for _ in range(500):\n",
    "    customers = customers.append(pd.DataFrame({'id': np.random.randint(1, 10000, size = 1)[0], \n",
    "                            'joined': random.choice(rand_dates),\n",
    "                            'income': np.random.randint(30500, 240000, size = 1)[0],\n",
    "                            'credit_score': np.random.randint(500, 850, size = 1)[0],\n",
    "                            'state': random.choice(states)},\n",
    "                             index = [0]), ignore_index = True)\n",
    "customers.head()"
   ]
  },
  {
   "cell_type": "code",
   "execution_count": 15,
   "metadata": {},
   "outputs": [
    {
     "data": {
      "text/plain": [
       "(500, 5)"
      ]
     },
     "execution_count": 15,
     "metadata": {},
     "output_type": "execute_result"
    }
   ],
   "source": [
    "customers.shape"
   ]
  },
  {
   "cell_type": "code",
   "execution_count": 20,
   "metadata": {},
   "outputs": [],
   "source": [
    "customers['id'] = customers['id'].astype('int')"
   ]
  },
  {
   "cell_type": "markdown",
   "metadata": {},
   "source": [
    "## Create a Child Table  - Loans \n",
    "### Parent is the customers table"
   ]
  },
  {
   "cell_type": "code",
   "execution_count": 22,
   "metadata": {},
   "outputs": [],
   "source": [
    "loans = pd.DataFrame(columns = ['id', 'type', 'amount', 'loan_id', 'start_date', 'end_date', 'loan_rate', 'gender', 'completed'])\n",
    "\n",
    "for cutomer in customers['id'].unique():\n",
    "    gender = random.choice(['M', 'F'])\n",
    "    for _ in range(5):\n",
    "        start_date = pd.datetime(np.random.randint(2000, 2020, size = 1)[0],\n",
    "                             np.random.randint(1, 13, size = 1)[0],\n",
    "                             np.random.randint(1, 29, size = 1)[0])\n",
    "\n",
    "        end_date = start_date + pd.Timedelta(days = np.random.randint(500, 1000, size = 1)[0])\n",
    "\n",
    "        loans = loans.append(pd.DataFrame({'id': cutomer,    'type': random.choice(['cash', 'credit', 'home', 'car','halal']),\n",
    "                                                             'amount': np.random.randint(500, 300000, size = 1)[0],\n",
    "                                                             'loan_id': np.random.randint(10000, 12000, size = 1)[0],\n",
    "                                                             'start_date': start_date,\n",
    "                                                             'end_date': end_date,\n",
    "                                                             'loan_rate': round(abs(3.5 * np.random.randn(1)[0]), 3),\n",
    "                                                             'gender': gender,\n",
    "                                                             'completed': random.choice([0, 1])}, index = [0]), ignore_index = True)\n",
    "\n"
   ]
  },
  {
   "cell_type": "code",
   "execution_count": 24,
   "metadata": {},
   "outputs": [
    {
     "data": {
      "text/html": [
       "<div>\n",
       "<style scoped>\n",
       "    .dataframe tbody tr th:only-of-type {\n",
       "        vertical-align: middle;\n",
       "    }\n",
       "\n",
       "    .dataframe tbody tr th {\n",
       "        vertical-align: top;\n",
       "    }\n",
       "\n",
       "    .dataframe thead th {\n",
       "        text-align: right;\n",
       "    }\n",
       "</style>\n",
       "<table border=\"1\" class=\"dataframe\">\n",
       "  <thead>\n",
       "    <tr style=\"text-align: right;\">\n",
       "      <th></th>\n",
       "      <th>id</th>\n",
       "      <th>type</th>\n",
       "      <th>amount</th>\n",
       "      <th>loan_id</th>\n",
       "      <th>start_date</th>\n",
       "      <th>end_date</th>\n",
       "      <th>loan_rate</th>\n",
       "      <th>gender</th>\n",
       "      <th>completed</th>\n",
       "    </tr>\n",
       "  </thead>\n",
       "  <tbody>\n",
       "    <tr>\n",
       "      <th>0</th>\n",
       "      <td>5138</td>\n",
       "      <td>home</td>\n",
       "      <td>248035</td>\n",
       "      <td>10732</td>\n",
       "      <td>2015-11-26</td>\n",
       "      <td>2017-04-14</td>\n",
       "      <td>0.565</td>\n",
       "      <td>M</td>\n",
       "      <td>1</td>\n",
       "    </tr>\n",
       "    <tr>\n",
       "      <th>1</th>\n",
       "      <td>5138</td>\n",
       "      <td>halal</td>\n",
       "      <td>95280</td>\n",
       "      <td>10976</td>\n",
       "      <td>2014-05-06</td>\n",
       "      <td>2016-08-01</td>\n",
       "      <td>1.550</td>\n",
       "      <td>M</td>\n",
       "      <td>1</td>\n",
       "    </tr>\n",
       "    <tr>\n",
       "      <th>2</th>\n",
       "      <td>5138</td>\n",
       "      <td>halal</td>\n",
       "      <td>130952</td>\n",
       "      <td>11290</td>\n",
       "      <td>2011-01-25</td>\n",
       "      <td>2013-10-20</td>\n",
       "      <td>5.273</td>\n",
       "      <td>M</td>\n",
       "      <td>0</td>\n",
       "    </tr>\n",
       "    <tr>\n",
       "      <th>3</th>\n",
       "      <td>5138</td>\n",
       "      <td>home</td>\n",
       "      <td>37231</td>\n",
       "      <td>11475</td>\n",
       "      <td>2014-04-28</td>\n",
       "      <td>2016-12-09</td>\n",
       "      <td>5.273</td>\n",
       "      <td>M</td>\n",
       "      <td>1</td>\n",
       "    </tr>\n",
       "    <tr>\n",
       "      <th>4</th>\n",
       "      <td>5138</td>\n",
       "      <td>home</td>\n",
       "      <td>274661</td>\n",
       "      <td>11072</td>\n",
       "      <td>2015-12-02</td>\n",
       "      <td>2017-05-17</td>\n",
       "      <td>3.236</td>\n",
       "      <td>M</td>\n",
       "      <td>1</td>\n",
       "    </tr>\n",
       "  </tbody>\n",
       "</table>\n",
       "</div>"
      ],
      "text/plain": [
       "     id   type  amount loan_id start_date   end_date  loan_rate gender  \\\n",
       "0  5138   home  248035   10732 2015-11-26 2017-04-14      0.565      M   \n",
       "1  5138  halal   95280   10976 2014-05-06 2016-08-01      1.550      M   \n",
       "2  5138  halal  130952   11290 2011-01-25 2013-10-20      5.273      M   \n",
       "3  5138   home   37231   11475 2014-04-28 2016-12-09      5.273      M   \n",
       "4  5138   home  274661   11072 2015-12-02 2017-05-17      3.236      M   \n",
       "\n",
       "  completed  \n",
       "0         1  \n",
       "1         1  \n",
       "2         0  \n",
       "3         1  \n",
       "4         1  "
      ]
     },
     "execution_count": 24,
     "metadata": {},
     "output_type": "execute_result"
    }
   ],
   "source": [
    "loans.head()"
   ]
  },
  {
   "cell_type": "code",
   "execution_count": 25,
   "metadata": {},
   "outputs": [
    {
     "data": {
      "text/plain": [
       "(2405, 9)"
      ]
     },
     "execution_count": 25,
     "metadata": {},
     "output_type": "execute_result"
    }
   ],
   "source": [
    "loans.shape"
   ]
  },
  {
   "cell_type": "code",
   "execution_count": 26,
   "metadata": {},
   "outputs": [],
   "source": [
    "loans['loan_id'] = loans['loan_id'].astype('int')"
   ]
  },
  {
   "cell_type": "code",
   "execution_count": 27,
   "metadata": {},
   "outputs": [],
   "source": [
    "loans.to_csv('loans_2020.csv', index=False) \n",
    "customers.to_csv('customers_2020.csv', index=False) "
   ]
  },
  {
   "cell_type": "markdown",
   "metadata": {},
   "source": [
    "# End"
   ]
  }
 ],
 "metadata": {
  "kernelspec": {
   "display_name": "Python 3",
   "language": "python",
   "name": "python3"
  },
  "language_info": {
   "codemirror_mode": {
    "name": "ipython",
    "version": 3
   },
   "file_extension": ".py",
   "mimetype": "text/x-python",
   "name": "python",
   "nbconvert_exporter": "python",
   "pygments_lexer": "ipython3",
   "version": "3.6.9"
  }
 },
 "nbformat": 4,
 "nbformat_minor": 2
}
