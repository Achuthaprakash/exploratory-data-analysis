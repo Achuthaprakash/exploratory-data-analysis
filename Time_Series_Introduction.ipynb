{
 "cells": [
  {
   "cell_type": "markdown",
   "metadata": {
    "colab_type": "text",
    "id": "NWhd8u9dnoDv"
   },
   "source": [
    "# Time series - Pandas "
   ]
  },
  {
   "cell_type": "markdown",
   "metadata": {},
   "source": [
    "## In this tutorial, you will learn:\n",
    "### 1. Pandas Date-time series class\n",
    "### 2. Date-range\n",
    "### 3. Period\n",
    "### 4. Timestamp"
   ]
  },
  {
   "cell_type": "code",
   "execution_count": 2,
   "metadata": {
    "colab": {},
    "colab_type": "code",
    "id": "Ipln_PBFMWZT"
   },
   "outputs": [],
   "source": [
    "import pandas as pd\n",
    "import numpy as np\n",
    "\n",
    "# ignore warnings from pandas\n",
    "import warnings\n",
    "warnings.filterwarnings('ignore')"
   ]
  },
  {
   "cell_type": "code",
   "execution_count": 4,
   "metadata": {
    "colab": {
     "base_uri": "https://localhost:8080/",
     "height": 52
    },
    "colab_type": "code",
    "id": "teOyoxsHMc-b",
    "outputId": "2c98fdb3-bef5-46da-ad8f-0d834eced20d"
   },
   "outputs": [
    {
     "name": "stdout",
     "output_type": "stream",
     "text": [
      "2018-01-15 15:45:00\n",
      "2018-01-15 03:45:00\n"
     ]
    }
   ],
   "source": [
    "# Date- Time\n",
    "print(pd.to_datetime('2018-01-15 3:45pm'))\n",
    "print(pd.to_datetime('2018-01-15 3:45am'))"
   ]
  },
  {
   "cell_type": "code",
   "execution_count": 9,
   "metadata": {
    "colab": {
     "base_uri": "https://localhost:8080/",
     "height": 34
    },
    "colab_type": "code",
    "id": "bD4QAIJvMhgj",
    "outputId": "30db521d-3ef4-47d4-bacd-cda7a4330604"
   },
   "outputs": [
    {
     "name": "stdout",
     "output_type": "stream",
     "text": [
      "2020-02-22 02:42:56.444333\n"
     ]
    }
   ],
   "source": [
    "print(pd.to_datetime('22/2/2020 2:42:56.444333'))  #"
   ]
  },
  {
   "cell_type": "code",
   "execution_count": 8,
   "metadata": {
    "colab": {
     "base_uri": "https://localhost:8080/",
     "height": 34
    },
    "colab_type": "code",
    "id": "43wl2XzJMyac",
    "outputId": "9faa5173-1b2e-4cce-eb16-187a16c33d70"
   },
   "outputs": [
    {
     "data": {
      "text/plain": [
       "DatetimeIndex(['2020-04-22', '2020-04-13'], dtype='datetime64[ns]', freq=None)"
      ]
     },
     "execution_count": 8,
     "metadata": {},
     "output_type": "execute_result"
    }
   ],
   "source": [
    "# European style\n",
    "pd.to_datetime(['04-22-2020', '13-04-2020'], dayfirst=True)"
   ]
  },
  {
   "cell_type": "code",
   "execution_count": 19,
   "metadata": {
    "colab": {},
    "colab_type": "code",
    "id": "AZdgmo_FMnqg"
   },
   "outputs": [
    {
     "name": "stdout",
     "output_type": "stream",
     "text": [
      "DatetimeIndex(['2020-01-15'], dtype='datetime64[ns]', freq=None)\n"
     ]
    }
   ],
   "source": [
    "# What's wrong?\n",
    "print(pd.to_datetime(['1/15/2020'], format='%m/%d/%Y'))"
   ]
  },
  {
   "cell_type": "code",
   "execution_count": 0,
   "metadata": {
    "colab": {},
    "colab_type": "code",
    "id": "tNihVLujRUWp"
   },
   "outputs": [],
   "source": [
    "# Did you notice y is small? why?\n",
    "pd.to_datetime(['2/25/10', '8/6/19', '12/30/20'], format='%m/%d/%y')"
   ]
  },
  {
   "cell_type": "code",
   "execution_count": 0,
   "metadata": {
    "colab": {},
    "colab_type": "code",
    "id": "GynXaSWiUF1X"
   },
   "outputs": [],
   "source": [
    "# What's wrong?\n",
    "pd.to_datetime(['12/32/20'], format='%m/%d/%y')"
   ]
  },
  {
   "cell_type": "code",
   "execution_count": 20,
   "metadata": {
    "colab": {},
    "colab_type": "code",
    "id": "mS4g72DgWIyy"
   },
   "outputs": [
    {
     "data": {
      "text/plain": [
       "Timestamp('2010-11-16 12:00:00')"
      ]
     },
     "execution_count": 20,
     "metadata": {},
     "output_type": "execute_result"
    }
   ],
   "source": [
    "# What's wrong? #b\n",
    "# Nice website about formatting: https://devhints.io/datetime \n",
    "ts =  pd.to_datetime('16-NOV-10 12.00.00.000000000 AM', format='%d-%B-%y %H.%M.%S.%f %p')\n",
    "ts"
   ]
  },
  {
   "cell_type": "code",
   "execution_count": 22,
   "metadata": {
    "colab": {
     "base_uri": "https://localhost:8080/",
     "height": 34
    },
    "colab_type": "code",
    "id": "gwd41aI9NR4V",
    "outputId": "cdb28e9a-1748-48d5-9c1d-9fcd565dbf79"
   },
   "outputs": [
    {
     "data": {
      "text/plain": [
       "Timestamp('2020-04-22 11:22:25')"
      ]
     },
     "execution_count": 22,
     "metadata": {},
     "output_type": "execute_result"
    }
   ],
   "source": [
    "# Time stamps\n",
    "# Timestamp is the pandas equivalent of python’s Datetime \n",
    "# https://pandas.pydata.org/pandas-docs/stable/reference/api/pandas.Timestamp.html\n",
    "pd.Timestamp('2020-04-22 11:22:25')"
   ]
  },
  {
   "cell_type": "code",
   "execution_count": 31,
   "metadata": {
    "colab": {
     "base_uri": "https://localhost:8080/",
     "height": 34
    },
    "colab_type": "code",
    "id": "EmIWtlUKPH0S",
    "outputId": "4ca20070-f1ff-4a14-c1e8-5719307858d9"
   },
   "outputs": [
    {
     "data": {
      "text/plain": [
       "Timestamp('2020-04-01 21:21:41-0400', tz='US/Eastern')"
      ]
     },
     "execution_count": 31,
     "metadata": {},
     "output_type": "execute_result"
    }
   ],
   "source": [
    "#  Convert Float representing a Unix epoch in units of seconds\n",
    "# https://www.epochconverter.com/clock\n",
    "# Unix epoch:  It is the number of seconds that have went by since the Unix epoch,\n",
    "#... that is the time 00:00:00 UTC on 1 January 1970.\n",
    "pd.Timestamp(1585790501, unit='s', tz='US/Eastern')"
   ]
  },
  {
   "cell_type": "code",
   "execution_count": 31,
   "metadata": {
    "colab": {
     "base_uri": "https://localhost:8080/",
     "height": 70
    },
    "colab_type": "code",
    "id": "0DtKtvarVW7l",
    "outputId": "b6ce9ce3-2bfc-48ce-ce51-1756611b387f"
   },
   "outputs": [
    {
     "data": {
      "text/plain": [
       "DatetimeIndex(['2012-10-08 18:15:05.100000', '2012-10-08 18:15:05.200000',\n",
       "               '2012-10-08 18:15:05.300000'],\n",
       "              dtype='datetime64[ns]', freq=None)"
      ]
     },
     "execution_count": 31,
     "metadata": {
      "tags": []
     },
     "output_type": "execute_result"
    }
   ],
   "source": [
    "pd.to_datetime([1349720105100, 1349720105200, 1349720105300], unit='ms')"
   ]
  },
  {
   "cell_type": "code",
   "execution_count": 33,
   "metadata": {
    "colab": {
     "base_uri": "https://localhost:8080/",
     "height": 34
    },
    "colab_type": "code",
    "id": "MkYLOGewQsJF",
    "outputId": "7b20f558-9ad8-4f7d-e9e7-29b3bb41533c"
   },
   "outputs": [
    {
     "data": {
      "text/plain": [
       "Timestamp('2020-04-02 06:00:00')"
      ]
     },
     "execution_count": 33,
     "metadata": {},
     "output_type": "execute_result"
    }
   ],
   "source": [
    "dt = pd.Timestamp(year=2020, month=4, day=2, hour=6, )\n",
    "dt"
   ]
  },
  {
   "cell_type": "code",
   "execution_count": 35,
   "metadata": {
    "colab": {
     "base_uri": "https://localhost:8080/",
     "height": 34
    },
    "colab_type": "code",
    "id": "uOPrBERRSO-D",
    "outputId": "e6f75c62-3bdf-440c-a4f1-a29e9d611f24"
   },
   "outputs": [
    {
     "data": {
      "text/plain": [
       "('Thursday', 'April', True)"
      ]
     },
     "execution_count": 35,
     "metadata": {},
     "output_type": "execute_result"
    }
   ],
   "source": [
    "dt.day_name() , dt.month_name(), dt.is_leap_year"
   ]
  },
  {
   "cell_type": "code",
   "execution_count": 36,
   "metadata": {
    "colab": {
     "base_uri": "https://localhost:8080/",
     "height": 34
    },
    "colab_type": "code",
    "id": "YM3NDJC7V97Z",
    "outputId": "aec98a48-8bf7-48f0-eb09-80df2d1de9d8"
   },
   "outputs": [
    {
     "data": {
      "text/plain": [
       "Timestamp('2020-03-30 16:59:54-0400', tz='US/Eastern')"
      ]
     },
     "execution_count": 36,
     "metadata": {},
     "output_type": "execute_result"
    }
   ],
   "source": [
    "# Work with time zones\n",
    "dt = pd.Timestamp(1585601994, unit='s', tz='US/Eastern')\n",
    "dt"
   ]
  },
  {
   "cell_type": "code",
   "execution_count": 37,
   "metadata": {
    "colab": {
     "base_uri": "https://localhost:8080/",
     "height": 34
    },
    "colab_type": "code",
    "id": "BlkINEfxWHcP",
    "outputId": "7e285d86-1035-4156-f8ca-1370e1af1f9d"
   },
   "outputs": [
    {
     "data": {
      "text/plain": [
       "Timestamp('2020-03-30 21:59:54+0100', tz='Europe/London')"
      ]
     },
     "execution_count": 37,
     "metadata": {},
     "output_type": "execute_result"
    }
   ],
   "source": [
    "#To convert a time zone aware pandas object to another time zone, you can use the tz_convert method.\n",
    "dt.tz_convert('Europe/London')"
   ]
  },
  {
   "cell_type": "code",
   "execution_count": 38,
   "metadata": {
    "colab": {
     "base_uri": "https://localhost:8080/",
     "height": 52
    },
    "colab_type": "code",
    "id": "KSRkNHttN9Mt",
    "outputId": "b9a4c929-b4be-49db-ec11-178a6ea100c0"
   },
   "outputs": [
    {
     "name": "stdout",
     "output_type": "stream",
     "text": [
      "440\n",
      "592\n"
     ]
    }
   ],
   "source": [
    "from pytz import common_timezones, all_timezones\n",
    "print(len(common_timezones))\n",
    "print(len(all_timezones))"
   ]
  },
  {
   "cell_type": "code",
   "execution_count": 39,
   "metadata": {
    "colab": {
     "base_uri": "https://localhost:8080/",
     "height": 34
    },
    "colab_type": "code",
    "id": "0XBp_91SOdlt",
    "outputId": "ac76f6c9-4963-430f-e584-4beda39930d2"
   },
   "outputs": [
    {
     "name": "stdout",
     "output_type": "stream",
     "text": [
      "['Africa/Abidjan', 'Africa/Accra', 'Africa/Addis_Ababa', 'Africa/Algiers', 'Africa/Asmara']\n"
     ]
    }
   ],
   "source": [
    "print(common_timezones[:5])"
   ]
  },
  {
   "cell_type": "code",
   "execution_count": 40,
   "metadata": {
    "colab": {
     "base_uri": "https://localhost:8080/",
     "height": 34
    },
    "colab_type": "code",
    "id": "Ubh1v6rjOdvy",
    "outputId": "b88b4252-f60b-4001-b1aa-2acb193a9223"
   },
   "outputs": [
    {
     "name": "stdout",
     "output_type": "stream",
     "text": [
      "['UTC', 'Universal', 'W-SU', 'WET', 'Zulu']\n"
     ]
    }
   ],
   "source": [
    "print(all_timezones[-5:])"
   ]
  },
  {
   "cell_type": "code",
   "execution_count": 47,
   "metadata": {
    "colab": {
     "base_uri": "https://localhost:8080/",
     "height": 34
    },
    "colab_type": "code",
    "id": "wNROhllvYVlH",
    "outputId": "ec0e08a1-752a-4bc1-a8e5-474fd25bbc7c"
   },
   "outputs": [
    {
     "data": {
      "text/plain": [
       "Timestamp('2020-04-02 10:00:00')"
      ]
     },
     "execution_count": 47,
     "metadata": {},
     "output_type": "execute_result"
    }
   ],
   "source": [
    "# localize a = timestamp\n",
    "ts = pd.Timestamp('2020-04-02 10')\n",
    "ts"
   ]
  },
  {
   "cell_type": "code",
   "execution_count": 48,
   "metadata": {
    "colab": {},
    "colab_type": "code",
    "id": "csx2ynQTPMoL"
   },
   "outputs": [
    {
     "data": {
      "text/plain": [
       "<DstTzInfo 'US/Eastern' EDT-1 day, 20:00:00 DST>"
      ]
     },
     "execution_count": 48,
     "metadata": {},
     "output_type": "execute_result"
    }
   ],
   "source": [
    "#ts = ts.tz_localize(tz = 'US/Eastern')\n",
    "#ts.tz "
   ]
  },
  {
   "cell_type": "code",
   "execution_count": 49,
   "metadata": {
    "colab": {},
    "colab_type": "code",
    "id": "eX9CU9unf1-U"
   },
   "outputs": [
    {
     "data": {
      "text/plain": [
       "Timestamp('2020-04-02 19:30:00+0530', tz='Asia/Kolkata')"
      ]
     },
     "execution_count": 49,
     "metadata": {},
     "output_type": "execute_result"
    }
   ],
   "source": [
    "# What's wrong?\n",
    "ts.tz_convert(tz = 'Asia/Kolkata') "
   ]
  },
  {
   "cell_type": "code",
   "execution_count": 54,
   "metadata": {
    "colab": {
     "base_uri": "https://localhost:8080/",
     "height": 34
    },
    "colab_type": "code",
    "id": "2rEHs16QOCkS",
    "outputId": "06983dcb-6451-449e-f396-7ed071d640fb"
   },
   "outputs": [
    {
     "data": {
      "text/plain": [
       "Period('2020-04', 'M')"
      ]
     },
     "execution_count": 54,
     "metadata": {},
     "output_type": "execute_result"
    }
   ],
   "source": [
    "# Time Spans\n",
    "# A Period represents a span of time (e.g., a day, a month, a quarter, etc). \n",
    "dti = pd.Period('2020-04-22','M') \n",
    "dti"
   ]
  },
  {
   "cell_type": "code",
   "execution_count": 55,
   "metadata": {
    "colab": {
     "base_uri": "https://localhost:8080/",
     "height": 34
    },
    "colab_type": "code",
    "id": "XxBhE1luOTQE",
    "outputId": "0b913461-44f4-4fbd-cb31-7671d1aace06"
   },
   "outputs": [
    {
     "data": {
      "text/plain": [
       "(30, 4, 2020)"
      ]
     },
     "execution_count": 55,
     "metadata": {},
     "output_type": "execute_result"
    }
   ],
   "source": [
    "dti.day, dti.month, dti.year"
   ]
  },
  {
   "cell_type": "code",
   "execution_count": 56,
   "metadata": {
    "colab": {
     "base_uri": "https://localhost:8080/",
     "height": 34
    },
    "colab_type": "code",
    "id": "jFibUa5rYfv2",
    "outputId": "0de33621-d45c-4f4f-f3a9-9e430341d3a6"
   },
   "outputs": [
    {
     "data": {
      "text/plain": [
       "Period('2020-05', 'M')"
      ]
     },
     "execution_count": 56,
     "metadata": {},
     "output_type": "execute_result"
    }
   ],
   "source": [
    "dti += 1\n",
    "dti"
   ]
  },
  {
   "cell_type": "code",
   "execution_count": 57,
   "metadata": {
    "colab": {
     "base_uri": "https://localhost:8080/",
     "height": 34
    },
    "colab_type": "code",
    "id": "lu2GV4aUOc7M",
    "outputId": "22e577c3-5f8f-4f81-b852-d45167c93a13"
   },
   "outputs": [
    {
     "data": {
      "text/plain": [
       "Period('2020-04-22 10:45', 'T')"
      ]
     },
     "execution_count": 57,
     "metadata": {},
     "output_type": "execute_result"
    }
   ],
   "source": [
    "dti = pd.Period('2020-04-22 10:45')\n",
    "dti"
   ]
  },
  {
   "cell_type": "code",
   "execution_count": 58,
   "metadata": {
    "colab": {
     "base_uri": "https://localhost:8080/",
     "height": 34
    },
    "colab_type": "code",
    "id": "V_k2Y1D1Yw5T",
    "outputId": "99e45e39-5383-46fd-8bc4-156b1febaaf3"
   },
   "outputs": [
    {
     "data": {
      "text/plain": [
       "Period('2020-04-22 10:46', 'T')"
      ]
     },
     "execution_count": 58,
     "metadata": {},
     "output_type": "execute_result"
    }
   ],
   "source": [
    "dti += 1\n",
    "dti "
   ]
  },
  {
   "cell_type": "code",
   "execution_count": 59,
   "metadata": {
    "colab": {},
    "colab_type": "code",
    "id": "xiN6FOliMRTV"
   },
   "outputs": [],
   "source": [
    "# Work with datetime\n",
    "import datetime"
   ]
  },
  {
   "cell_type": "code",
   "execution_count": 62,
   "metadata": {
    "colab": {
     "base_uri": "https://localhost:8080/",
     "height": 34
    },
    "colab_type": "code",
    "id": "Ebe1jPzQZR_-",
    "outputId": "ddeece34-1273-49bd-e1d2-107c912284eb"
   },
   "outputs": [
    {
     "data": {
      "text/plain": [
       "Period('2020-04-02 10:00', 'H')"
      ]
     },
     "execution_count": 62,
     "metadata": {},
     "output_type": "execute_result"
    }
   ],
   "source": [
    "# If our readings has an offset, we can fix it using pandas\n",
    "p_ts = pd.Period('2020-04-02 06:00', freq='H')\n",
    "p_ts + pd.offsets.Hour(4) "
   ]
  },
  {
   "cell_type": "code",
   "execution_count": 63,
   "metadata": {
    "colab": {
     "base_uri": "https://localhost:8080/",
     "height": 34
    },
    "colab_type": "code",
    "id": "wJa5KUn4Ziat",
    "outputId": "9ba5bd43-8a99-456b-ebe3-2e57ed019b6f"
   },
   "outputs": [
    {
     "data": {
      "text/plain": [
       "Period('2020-04-02 10:00', 'H')"
      ]
     },
     "execution_count": 63,
     "metadata": {},
     "output_type": "execute_result"
    }
   ],
   "source": [
    "p_ts + datetime.timedelta(hours = 4 ) #minutes"
   ]
  },
  {
   "cell_type": "code",
   "execution_count": 64,
   "metadata": {
    "colab": {
     "base_uri": "https://localhost:8080/",
     "height": 34
    },
    "colab_type": "code",
    "id": "HpwFipAsZiib",
    "outputId": "542c5b5a-f289-47f6-b9f8-72c842e70222"
   },
   "outputs": [
    {
     "data": {
      "text/plain": [
       "Period('2020-04-02 10:00', 'H')"
      ]
     },
     "execution_count": 64,
     "metadata": {},
     "output_type": "execute_result"
    }
   ],
   "source": [
    "p_ts + np.timedelta64(60 * 60 * 4, 's' )"
   ]
  },
  {
   "cell_type": "code",
   "execution_count": 52,
   "metadata": {
    "colab": {
     "base_uri": "https://localhost:8080/",
     "height": 123
    },
    "colab_type": "code",
    "id": "0hZ2ZxMORT6k",
    "outputId": "cc79cc8a-0541-4a55-feb9-34db4593472f"
   },
   "outputs": [
    {
     "data": {
      "text/plain": [
       "DatetimeIndex(['2020-03-31 15:00:00', '2020-03-31 16:00:00',\n",
       "               '2020-03-31 17:00:00', '2020-03-31 18:00:00',\n",
       "               '2020-03-31 19:00:00', '2020-03-31 20:00:00',\n",
       "               '2020-03-31 21:00:00', '2020-03-31 22:00:00',\n",
       "               '2020-03-31 23:00:00', '2020-04-01 00:00:00'],\n",
       "              dtype='datetime64[ns]', freq='H')"
      ]
     },
     "execution_count": 52,
     "metadata": {
      "tags": []
     },
     "output_type": "execute_result"
    }
   ],
   "source": [
    "# date range and periods\n",
    "dti = pd.date_range(end='04-01-2020', periods=10, freq='H')\n",
    "dti"
   ]
  },
  {
   "cell_type": "code",
   "execution_count": 53,
   "metadata": {
    "colab": {
     "base_uri": "https://localhost:8080/",
     "height": 34
    },
    "colab_type": "code",
    "id": "mwX8Av96bTZz",
    "outputId": "09e34d04-8dcf-4410-f3c3-8c1f2284735c"
   },
   "outputs": [
    {
     "data": {
      "text/plain": [
       "Int64Index([15, 16, 17, 18, 19, 20, 21, 22, 23, 0], dtype='int64')"
      ]
     },
     "execution_count": 53,
     "metadata": {
      "tags": []
     },
     "output_type": "execute_result"
    }
   ],
   "source": [
    "# create features\n",
    "dti.hour"
   ]
  },
  {
   "cell_type": "code",
   "execution_count": 66,
   "metadata": {
    "colab": {
     "base_uri": "https://localhost:8080/",
     "height": 105
    },
    "colab_type": "code",
    "id": "Y8amnI0cR9EL",
    "outputId": "4c01afcb-116a-4296-8463-5cdb139c82e6"
   },
   "outputs": [
    {
     "name": "stdout",
     "output_type": "stream",
     "text": [
      "DatetimeIndex(['2020-04-01', '2020-04-11', '2020-04-21', '2020-05-01',\n",
      "               '2020-05-11', '2020-05-21', '2020-05-31', '2020-06-10',\n",
      "               '2020-06-20', '2020-06-30', '2020-07-10', '2020-07-20',\n",
      "               '2020-07-30', '2020-08-09'],\n",
      "              dtype='datetime64[ns]', freq='10D')\n"
     ]
    }
   ],
   "source": [
    "#Daterange\n",
    "print(pd.date_range(start='04-01-2020', end='08-10-2020', freq='10D'))"
   ]
  },
  {
   "cell_type": "code",
   "execution_count": 68,
   "metadata": {
    "colab": {
     "base_uri": "https://localhost:8080/",
     "height": 123
    },
    "colab_type": "code",
    "id": "8pJW2xnbnP-6",
    "outputId": "5417021c-3a28-46b8-8c2c-2b451c04e230"
   },
   "outputs": [
    {
     "data": {
      "text/plain": [
       "2020-04-30    0\n",
       "2020-05-31    1\n",
       "2020-06-30    2\n",
       "2020-07-31    3\n",
       "2020-08-31    4\n",
       "Freq: M, dtype: int64"
      ]
     },
     "execution_count": 68,
     "metadata": {},
     "output_type": "execute_result"
    }
   ],
   "source": [
    "# Indexing with date range\n",
    "rng = pd.date_range('2020 April 2', periods = 5, freq = 'M')\n",
    "ts = pd.Series(range(len(rng)), index = rng)\n",
    "ts"
   ]
  },
  {
   "cell_type": "code",
   "execution_count": 69,
   "metadata": {
    "colab": {
     "base_uri": "https://localhost:8080/",
     "height": 34
    },
    "colab_type": "code",
    "id": "ZWr5chZUL3Ed",
    "outputId": "e3402793-ecb9-4374-bff0-4a7f238f19a1"
   },
   "outputs": [
    {
     "data": {
      "text/plain": [
       "pandas.core.indexes.datetimes.DatetimeIndex"
      ]
     },
     "execution_count": 69,
     "metadata": {},
     "output_type": "execute_result"
    }
   ],
   "source": [
    "type(ts.index)"
   ]
  },
  {
   "cell_type": "code",
   "execution_count": 74,
   "metadata": {
    "colab": {
     "base_uri": "https://localhost:8080/",
     "height": 123
    },
    "colab_type": "code",
    "id": "PfpCYXzwNTTd",
    "outputId": "d995e2e4-7761-4bdd-9894-41acad0052d0"
   },
   "outputs": [
    {
     "data": {
      "text/plain": [
       "2020-04    0\n",
       "2020-05    1\n",
       "2020-06    2\n",
       "2020-07    3\n",
       "2020-08    4\n",
       "Freq: M, dtype: int64"
      ]
     },
     "execution_count": 74,
     "metadata": {},
     "output_type": "execute_result"
    }
   ],
   "source": [
    "ts_period = ts.to_period() #freq='d'\n",
    "ts_period"
   ]
  },
  {
   "cell_type": "code",
   "execution_count": 58,
   "metadata": {
    "colab": {
     "base_uri": "https://localhost:8080/",
     "height": 34
    },
    "colab_type": "code",
    "id": "1zfvM_MWNYAh",
    "outputId": "0ab6d5e4-5f62-4295-f042-f036b73f3090"
   },
   "outputs": [
    {
     "data": {
      "text/plain": [
       "pandas.core.indexes.period.PeriodIndex"
      ]
     },
     "execution_count": 58,
     "metadata": {
      "tags": []
     },
     "output_type": "execute_result"
    }
   ],
   "source": [
    "type(ts_period.index)"
   ]
  },
  {
   "cell_type": "markdown",
   "metadata": {
    "colab_type": "text",
    "id": "hnoR22UCbYVi"
   },
   "source": [
    "# Practicle Example \n"
   ]
  },
  {
   "cell_type": "code",
   "execution_count": 76,
   "metadata": {
    "colab": {},
    "colab_type": "code",
    "id": "5KibNUmUZXDW"
   },
   "outputs": [
    {
     "data": {
      "text/html": [
       "<div>\n",
       "<style scoped>\n",
       "    .dataframe tbody tr th:only-of-type {\n",
       "        vertical-align: middle;\n",
       "    }\n",
       "\n",
       "    .dataframe tbody tr th {\n",
       "        vertical-align: top;\n",
       "    }\n",
       "\n",
       "    .dataframe thead th {\n",
       "        text-align: right;\n",
       "    }\n",
       "</style>\n",
       "<table border=\"1\" class=\"dataframe\">\n",
       "  <thead>\n",
       "    <tr style=\"text-align: right;\">\n",
       "      <th></th>\n",
       "      <th>Time</th>\n",
       "    </tr>\n",
       "  </thead>\n",
       "  <tbody>\n",
       "    <tr>\n",
       "      <th>0</th>\n",
       "      <td>20-SEP-14 12.00.00.000000000 AM</td>\n",
       "    </tr>\n",
       "    <tr>\n",
       "      <th>1</th>\n",
       "      <td>NaN</td>\n",
       "    </tr>\n",
       "    <tr>\n",
       "      <th>2</th>\n",
       "      <td>NaN</td>\n",
       "    </tr>\n",
       "    <tr>\n",
       "      <th>3</th>\n",
       "      <td>13-NOV-18 12.00.00.000000000 AM</td>\n",
       "    </tr>\n",
       "    <tr>\n",
       "      <th>4</th>\n",
       "      <td>19-AUG-18 12.00.00.000000000 AM</td>\n",
       "    </tr>\n",
       "  </tbody>\n",
       "</table>\n",
       "</div>"
      ],
      "text/plain": [
       "                              Time\n",
       "0  20-SEP-14 12.00.00.000000000 AM\n",
       "1                              NaN\n",
       "2                              NaN\n",
       "3  13-NOV-18 12.00.00.000000000 AM\n",
       "4  19-AUG-18 12.00.00.000000000 AM"
      ]
     },
     "execution_count": 76,
     "metadata": {},
     "output_type": "execute_result"
    }
   ],
   "source": [
    "# To show the power of timedate with Pandas\n",
    "df = pd.read_csv('time.csv', header=None)\n",
    "df.columns = ['Time']\n",
    "df.head(5)"
   ]
  },
  {
   "cell_type": "code",
   "execution_count": 77,
   "metadata": {
    "colab": {
     "base_uri": "https://localhost:8080/",
     "height": 34
    },
    "colab_type": "code",
    "id": "rafS6i2ObTKl",
    "outputId": "40219b6c-2cc0-457c-fc61-139ff2122436"
   },
   "outputs": [
    {
     "data": {
      "text/plain": [
       "(2646210, 1)"
      ]
     },
     "execution_count": 77,
     "metadata": {},
     "output_type": "execute_result"
    }
   ],
   "source": [
    "df.shape"
   ]
  },
  {
   "cell_type": "code",
   "execution_count": 80,
   "metadata": {
    "colab": {
     "base_uri": "https://localhost:8080/",
     "height": 52
    },
    "colab_type": "code",
    "id": "hHu_4jaLeKRs",
    "outputId": "5e19b73d-8dc6-435c-e27e-137a5052b0ed"
   },
   "outputs": [
    {
     "data": {
      "text/plain": [
       "Time    118252\n",
       "dtype: int64"
      ]
     },
     "execution_count": 80,
     "metadata": {},
     "output_type": "execute_result"
    }
   ],
   "source": [
    "df.isnull().sum()"
   ]
  },
  {
   "cell_type": "code",
   "execution_count": 81,
   "metadata": {
    "colab": {},
    "colab_type": "code",
    "id": "axVO6FHEZs4h"
   },
   "outputs": [],
   "source": [
    "df['Time'] =  pd.to_datetime(df['Time'], format='%d-%b-%y %H.%M.%S.%f %p', errors='coerce')\n",
    "# to understand the errors, please refere to the link below\n",
    "# https://pandas.pydata.org/pandas-docs/stable/reference/api/pandas.to_datetime.html"
   ]
  },
  {
   "cell_type": "code",
   "execution_count": 84,
   "metadata": {
    "colab": {
     "base_uri": "https://localhost:8080/",
     "height": 197
    },
    "colab_type": "code",
    "id": "CPnqJ2YWa16_",
    "outputId": "7cca3c3f-d5fd-4033-a654-30a41f619039"
   },
   "outputs": [
    {
     "data": {
      "text/html": [
       "<div>\n",
       "<style scoped>\n",
       "    .dataframe tbody tr th:only-of-type {\n",
       "        vertical-align: middle;\n",
       "    }\n",
       "\n",
       "    .dataframe tbody tr th {\n",
       "        vertical-align: top;\n",
       "    }\n",
       "\n",
       "    .dataframe thead th {\n",
       "        text-align: right;\n",
       "    }\n",
       "</style>\n",
       "<table border=\"1\" class=\"dataframe\">\n",
       "  <thead>\n",
       "    <tr style=\"text-align: right;\">\n",
       "      <th></th>\n",
       "      <th>Time</th>\n",
       "    </tr>\n",
       "  </thead>\n",
       "  <tbody>\n",
       "    <tr>\n",
       "      <th>2365140</th>\n",
       "      <td>1999-07-01 12:00:00</td>\n",
       "    </tr>\n",
       "    <tr>\n",
       "      <th>445369</th>\n",
       "      <td>2015-05-15 12:00:00</td>\n",
       "    </tr>\n",
       "    <tr>\n",
       "      <th>2502025</th>\n",
       "      <td>2016-10-19 12:00:00</td>\n",
       "    </tr>\n",
       "    <tr>\n",
       "      <th>1891354</th>\n",
       "      <td>2003-09-05 12:00:00</td>\n",
       "    </tr>\n",
       "    <tr>\n",
       "      <th>2131705</th>\n",
       "      <td>2019-06-26 12:00:00</td>\n",
       "    </tr>\n",
       "  </tbody>\n",
       "</table>\n",
       "</div>"
      ],
      "text/plain": [
       "                       Time\n",
       "2365140 1999-07-01 12:00:00\n",
       "445369  2015-05-15 12:00:00\n",
       "2502025 2016-10-19 12:00:00\n",
       "1891354 2003-09-05 12:00:00\n",
       "2131705 2019-06-26 12:00:00"
      ]
     },
     "execution_count": 84,
     "metadata": {},
     "output_type": "execute_result"
    }
   ],
   "source": [
    "df.sample(5)"
   ]
  },
  {
   "cell_type": "code",
   "execution_count": 85,
   "metadata": {
    "colab": {
     "base_uri": "https://localhost:8080/",
     "height": 52
    },
    "colab_type": "code",
    "id": "hGrAvc7qeH5J",
    "outputId": "df869aa5-b791-43f0-e4be-2f761aa6a69b"
   },
   "outputs": [
    {
     "data": {
      "text/plain": [
       "Time    118252\n",
       "dtype: int64"
      ]
     },
     "execution_count": 85,
     "metadata": {},
     "output_type": "execute_result"
    }
   ],
   "source": [
    "df.isnull().sum()"
   ]
  },
  {
   "cell_type": "markdown",
   "metadata": {
    "colab_type": "text",
    "id": "IHuiFLWJQ3uU"
   },
   "source": [
    "# End"
   ]
  }
 ],
 "metadata": {
  "colab": {
   "collapsed_sections": [],
   "name": "Time_Series_Pandas_Intro.ipynb",
   "provenance": []
  },
  "kernelspec": {
   "display_name": "Python 3",
   "language": "python",
   "name": "python3"
  },
  "language_info": {
   "codemirror_mode": {
    "name": "ipython",
    "version": 3
   },
   "file_extension": ".py",
   "mimetype": "text/x-python",
   "name": "python",
   "nbconvert_exporter": "python",
   "pygments_lexer": "ipython3",
   "version": "3.6.9"
  }
 },
 "nbformat": 4,
 "nbformat_minor": 1
}
